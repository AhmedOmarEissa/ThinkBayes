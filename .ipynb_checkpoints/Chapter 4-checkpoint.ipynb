{
 "cells": [
  {
   "cell_type": "code",
   "execution_count": 3,
   "metadata": {},
   "outputs": [],
   "source": [
    "import matplotlib.pyplot as plt\n",
    "import time"
   ]
  },
  {
   "cell_type": "markdown",
   "metadata": {},
   "source": [
    "## The Euro problem"
   ]
  },
  {
   "cell_type": "markdown",
   "metadata": {},
   "source": [
    "![title](Euro.png)"
   ]
  },
  {
   "cell_type": "code",
   "execution_count": 13,
   "metadata": {},
   "outputs": [],
   "source": [
    "#Fair \n",
    "#P(Fair|.56) = P(.56|Fair) * P(F)/ P(.56)\n",
    "\n",
    "import thinkbayes\n",
    "import thinkplot\n",
    "\n",
    "\n",
    "class Euro(thinkbayes.Suite):\n",
    "    \"\"\"Represents hypotheses about the probability of heads.\"\"\"\n",
    "\n",
    "    def Likelihood(self, data, hypo):\n",
    "        #This is a simulation\n",
    "        \"\"\"Computes the likelihood of the data under the hypothesis.\n",
    "\n",
    "        hypo: integer value of x, the probability of heads (0-100)\n",
    "        data: string 'H' or 'T'\n",
    "        \"\"\"\n",
    "        x = hypo / 100.0\n",
    "        #print(data,x,hypo)\n",
    "        if data == 'H':\n",
    "            return x\n",
    "        else:\n",
    "            return 1-x\n",
    "    # lets see if the coin in fair or not\n",
    "    def TrianglePrior():\n",
    "        suite = Euro()\n",
    "        for x in range(0, 51):\n",
    "            suite.Set(x, x)\n",
    "        for x in range(51, 101):\n",
    "            suite.Set(x, 100-x)\n",
    "        suite.Normalize()"
   ]
  },
  {
   "cell_type": "code",
   "execution_count": 16,
   "metadata": {},
   "outputs": [
    {
     "name": "stdout",
     "output_type": "stream",
     "text": [
      "1\n",
      "50\n",
      "100\n",
      "150\n",
      "200\n",
      "250\n"
     ]
    },
    {
     "data": {
      "image/png": "[encoded data removed]",
      "text/plain": [
       "<Figure size 432x288 with 1 Axes>"
      ]
     },
     "metadata": {
      "needs_background": "light"
     },
     "output_type": "display_data"
    }
   ],
   "source": [
    "heads=140 \n",
    "tails=110\n",
    "dataset = 'H' * heads + 'T' * tails\n",
    "suite = Euro(range(0, 101))\n",
    "i = 0 \n",
    "for data in dataset:\n",
    "    i += 1\n",
    "    suite.Update(data)\n",
    "    x = [i[0] for i in suite.Items()]\n",
    "    y = [i[1] for i in suite.Items()]\n",
    "    if i in [1,50,100,150,200,250]:\n",
    "        print(i)\n",
    "        plt.plot(x,y,);\n"
   ]
  },
  {
   "cell_type": "code",
   "execution_count": null,
   "metadata": {},
   "outputs": [],
   "source": []
  },
  {
   "cell_type": "code",
   "execution_count": 9,
   "metadata": {},
   "outputs": [],
   "source": [
    "def MaximumLikelihood(pmf):\n",
    "    \"\"\"Returns the value with the highest probability.\"\"\"\n",
    "    prob, val = max((prob, val) for val, prob in pmf.Items())\n",
    "    return val"
   ]
  },
  {
   "cell_type": "code",
   "execution_count": 19,
   "metadata": {},
   "outputs": [
    {
     "data": {
      "text/plain": [
       "56"
      ]
     },
     "execution_count": 19,
     "metadata": {},
     "output_type": "execute_result"
    }
   ],
   "source": [
    " MaximumLikelihood(suite)"
   ]
  },
  {
   "cell_type": "code",
   "execution_count": 22,
   "metadata": {},
   "outputs": [],
   "source": [
    "#Fair \n",
    "#P(Fair|.56) = P(.56|Fair) * P(F)/ P(.56)\n",
    "\n",
    "import thinkbayes\n",
    "import thinkplot\n",
    "\n",
    "\n",
    "class EuroII(thinkbayes.Suite):\n",
    "    \"\"\"Represents hypotheses about the probability of heads.\"\"\"\n",
    "\n",
    "    def Likelihood(self, data, hypo):\n",
    "        #This is a simulation\n",
    "        \"\"\"Computes the likelihood of the data under the hypothesis.\n",
    "\n",
    "        hypo: integer value of x, the probability of heads (0-100)\n",
    "        data: string 'H' or 'T'\n",
    "        \"\"\"\n",
    "        x = hypo / 100.0\n",
    "        #print(data,x,hypo)\n",
    "        if data == 'H':\n",
    "            return x\n",
    "        else:\n",
    "            return 1-x\n",
    "    # lets see if the coin in fair or not\n",
    "    def TrianglePrior():\n",
    "        suite = Euro()\n",
    "        for x in range(0, 51):\n",
    "            suite.Set(x, x)\n",
    "        for x in range(51, 101):\n",
    "            suite.Set(x, 100-x)\n",
    "        suite.Normalize()"
   ]
  },
  {
   "cell_type": "code",
   "execution_count": null,
   "metadata": {},
   "outputs": [],
   "source": [
    "    data = 140, 110\n",
    "    data = 8, 12\n",
    "\n",
    "    suite = Euro()\n",
    "    like_f = suite.Likelihood(data, 50)\n",
    "    print('p(D|F)', like_f)"
   ]
  }
 ],
 "metadata": {
  "kernelspec": {
   "display_name": "Python 3",
   "language": "python",
   "name": "python3"
  },
  "language_info": {
   "codemirror_mode": {
    "name": "ipython",
    "version": 3
   },
   "file_extension": ".py",
   "mimetype": "text/x-python",
   "name": "python",
   "nbconvert_exporter": "python",
   "pygments_lexer": "ipython3",
   "version": "3.8.5"
  }
 },
 "nbformat": 4,
 "nbformat_minor": 4
}
